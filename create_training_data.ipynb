{
 "cells": [
  {
   "cell_type": "code",
   "execution_count": 1,
   "id": "8679492b-9f59-4d98-af16-7e57fc467c86",
   "metadata": {},
   "outputs": [],
   "source": [
    "import pandas as pd\n",
    "import numpy as np\n",
    "import os\n",
    "import sys\n",
    "import librosa\n",
    "import librosa.display\n",
    "import seaborn as sns\n",
    "import matplotlib.pyplot as plt\n",
    "from IPython.display import Audio\n",
    "import tensorflow as tf\n",
    "from tensorflow import keras"
   ]
  },
  {
   "cell_type": "markdown",
   "id": "00dd135d-2329-44e4-8f11-62c487a248c7",
   "metadata": {},
   "source": [
    "## Extract desired emotion file paths from RAVDESS"
   ]
  },
  {
   "cell_type": "code",
   "execution_count": 2,
   "id": "dd64953e-6a01-4d97-8b9b-2f0a89a6fa77",
   "metadata": {},
   "outputs": [],
   "source": [
    "Ravdess = \"data/RAVDESS/\"\n",
    "directory = 'data/preprocessed/' #save directory"
   ]
  },
  {
   "cell_type": "code",
   "execution_count": 3,
   "id": "07505b44-bb6c-405c-ad78-f86737d17578",
   "metadata": {},
   "outputs": [
    {
     "data": {
      "text/html": [
       "<div>\n",
       "<style scoped>\n",
       "    .dataframe tbody tr th:only-of-type {\n",
       "        vertical-align: middle;\n",
       "    }\n",
       "\n",
       "    .dataframe tbody tr th {\n",
       "        vertical-align: top;\n",
       "    }\n",
       "\n",
       "    .dataframe thead th {\n",
       "        text-align: right;\n",
       "    }\n",
       "</style>\n",
       "<table border=\"1\" class=\"dataframe\">\n",
       "  <thead>\n",
       "    <tr style=\"text-align: right;\">\n",
       "      <th></th>\n",
       "      <th>Emotions</th>\n",
       "      <th>Path</th>\n",
       "    </tr>\n",
       "  </thead>\n",
       "  <tbody>\n",
       "    <tr>\n",
       "      <th>0</th>\n",
       "      <td>neutral</td>\n",
       "      <td>data/RAVDESS/Actor_01/03-01-01-01-01-01-01.wav</td>\n",
       "    </tr>\n",
       "    <tr>\n",
       "      <th>1</th>\n",
       "      <td>neutral</td>\n",
       "      <td>data/RAVDESS/Actor_01/03-01-01-01-01-02-01.wav</td>\n",
       "    </tr>\n",
       "    <tr>\n",
       "      <th>2</th>\n",
       "      <td>neutral</td>\n",
       "      <td>data/RAVDESS/Actor_01/03-01-01-01-02-01-01.wav</td>\n",
       "    </tr>\n",
       "    <tr>\n",
       "      <th>3</th>\n",
       "      <td>neutral</td>\n",
       "      <td>data/RAVDESS/Actor_01/03-01-01-01-02-02-01.wav</td>\n",
       "    </tr>\n",
       "    <tr>\n",
       "      <th>4</th>\n",
       "      <td>calm</td>\n",
       "      <td>data/RAVDESS/Actor_01/03-01-02-02-01-01-01.wav</td>\n",
       "    </tr>\n",
       "  </tbody>\n",
       "</table>\n",
       "</div>"
      ],
      "text/plain": [
       "  Emotions                                            Path\n",
       "0  neutral  data/RAVDESS/Actor_01/03-01-01-01-01-01-01.wav\n",
       "1  neutral  data/RAVDESS/Actor_01/03-01-01-01-01-02-01.wav\n",
       "2  neutral  data/RAVDESS/Actor_01/03-01-01-01-02-01-01.wav\n",
       "3  neutral  data/RAVDESS/Actor_01/03-01-01-01-02-02-01.wav\n",
       "4     calm  data/RAVDESS/Actor_01/03-01-02-02-01-01-01.wav"
      ]
     },
     "execution_count": 3,
     "metadata": {},
     "output_type": "execute_result"
    }
   ],
   "source": [
    "ravdess_directory_list = os.listdir(Ravdess)\n",
    "\n",
    "file_emotion = []\n",
    "file_path = []\n",
    "for dir in ravdess_directory_list:\n",
    "    # as their are 20 different actors in our previous directory we need to extract files for each actor.\n",
    "    actor = os.listdir(Ravdess + dir)\n",
    "    for file in actor:\n",
    "        part = file.split('.')[0]\n",
    "        part = part.split('-')\n",
    "        # SELECT INTENSITY HERE\n",
    "        if (part[2] == '01') or (part[3] == '02'):\n",
    "            file_emotion.append(int(part[2]))\n",
    "            file_path.append(Ravdess + dir + '/' + file)\n",
    "        \n",
    "# dataframe for emotion of files\n",
    "emotion_df = pd.DataFrame(file_emotion, columns=['Emotions'])\n",
    "\n",
    "# dataframe for path of files.\n",
    "path_df = pd.DataFrame(file_path, columns=['Path'])\n",
    "Ravdess_df = pd.concat([emotion_df, path_df], axis=1)\n",
    "\n",
    "# changing integers to actual emotions.\n",
    "Ravdess_df.Emotions.replace({1:'neutral', 2:'calm', 3:'happy', 4:'sad', 5:'angry', 6:'fear', 7:'disgust', 8:'surprise'}, inplace=True)\n",
    "Ravdess_df.head()"
   ]
  },
  {
   "cell_type": "code",
   "execution_count": 4,
   "id": "91bd11ad-5933-4497-b1a6-9a6ef14e4d2d",
   "metadata": {},
   "outputs": [
    {
     "data": {
      "text/plain": [
       "neutral     96\n",
       "calm        96\n",
       "happy       96\n",
       "sad         96\n",
       "angry       96\n",
       "fear        96\n",
       "disgust     96\n",
       "surprise    96\n",
       "Name: Emotions, dtype: int64"
      ]
     },
     "execution_count": 4,
     "metadata": {},
     "output_type": "execute_result"
    }
   ],
   "source": [
    "Ravdess_df['Emotions'].value_counts()"
   ]
  },
  {
   "cell_type": "code",
   "execution_count": 5,
   "id": "dfae2d7a-cde6-4982-b63b-c82303d18ffb",
   "metadata": {},
   "outputs": [
    {
     "data": {
      "text/html": [
       "<div>\n",
       "<style scoped>\n",
       "    .dataframe tbody tr th:only-of-type {\n",
       "        vertical-align: middle;\n",
       "    }\n",
       "\n",
       "    .dataframe tbody tr th {\n",
       "        vertical-align: top;\n",
       "    }\n",
       "\n",
       "    .dataframe thead th {\n",
       "        text-align: right;\n",
       "    }\n",
       "</style>\n",
       "<table border=\"1\" class=\"dataframe\">\n",
       "  <thead>\n",
       "    <tr style=\"text-align: right;\">\n",
       "      <th></th>\n",
       "      <th>Emotions</th>\n",
       "      <th>Path</th>\n",
       "    </tr>\n",
       "  </thead>\n",
       "  <tbody>\n",
       "    <tr>\n",
       "      <th>0</th>\n",
       "      <td>neutral</td>\n",
       "      <td>data/RAVDESS/Actor_01/03-01-01-01-01-01-01.wav</td>\n",
       "    </tr>\n",
       "    <tr>\n",
       "      <th>1</th>\n",
       "      <td>neutral</td>\n",
       "      <td>data/RAVDESS/Actor_01/03-01-01-01-01-02-01.wav</td>\n",
       "    </tr>\n",
       "    <tr>\n",
       "      <th>2</th>\n",
       "      <td>neutral</td>\n",
       "      <td>data/RAVDESS/Actor_01/03-01-01-01-02-01-01.wav</td>\n",
       "    </tr>\n",
       "    <tr>\n",
       "      <th>3</th>\n",
       "      <td>neutral</td>\n",
       "      <td>data/RAVDESS/Actor_01/03-01-01-01-02-02-01.wav</td>\n",
       "    </tr>\n",
       "    <tr>\n",
       "      <th>4</th>\n",
       "      <td>calm</td>\n",
       "      <td>data/RAVDESS/Actor_01/03-01-02-02-01-01-01.wav</td>\n",
       "    </tr>\n",
       "  </tbody>\n",
       "</table>\n",
       "</div>"
      ],
      "text/plain": [
       "  Emotions                                            Path\n",
       "0  neutral  data/RAVDESS/Actor_01/03-01-01-01-01-01-01.wav\n",
       "1  neutral  data/RAVDESS/Actor_01/03-01-01-01-01-02-01.wav\n",
       "2  neutral  data/RAVDESS/Actor_01/03-01-01-01-02-01-01.wav\n",
       "3  neutral  data/RAVDESS/Actor_01/03-01-01-01-02-02-01.wav\n",
       "4     calm  data/RAVDESS/Actor_01/03-01-02-02-01-01-01.wav"
      ]
     },
     "execution_count": 5,
     "metadata": {},
     "output_type": "execute_result"
    }
   ],
   "source": [
    "data_path = pd.concat([Ravdess_df,  ], axis = 0)\n",
    "data_path.to_csv(directory + \"data_path.csv\",index=False)\n",
    "data_path.head()"
   ]
  },
  {
   "cell_type": "code",
   "execution_count": 6,
   "id": "6c265e07-e5a7-4a3d-99f9-8c5fc4ed1c85",
   "metadata": {},
   "outputs": [
    {
     "name": "stderr",
     "output_type": "stream",
     "text": [
      "C:\\Users\\Evan\\anaconda3\\lib\\site-packages\\seaborn\\_decorators.py:36: FutureWarning: Pass the following variable as a keyword arg: x. From version 0.12, the only valid positional argument will be `data`, and passing other arguments without an explicit keyword will result in an error or misinterpretation.\n",
      "  warnings.warn(\n"
     ]
    },
    {
     "data": {
      "image/png": "[encoded data removed]",
      "text/plain": [
       "<Figure size 432x288 with 1 Axes>"
      ]
     },
     "metadata": {
      "needs_background": "light"
     },
     "output_type": "display_data"
    }
   ],
   "source": [
    "plt.title('Count of Emotions', size=16)\n",
    "sns.countplot(data_path.Emotions)\n",
    "plt.ylabel('Count', size=12)\n",
    "plt.xlabel('Emotions', size=12)\n",
    "sns.despine(top=True, right=True, left=False, bottom=False)\n",
    "plt.show()"
   ]
  },
  {
   "cell_type": "markdown",
   "id": "df3756ab-0a95-48cc-a1d2-da94ad5052d8",
   "metadata": {},
   "source": [
    "## Choose your emotions here"
   ]
  },
  {
   "cell_type": "code",
   "execution_count": 7,
   "id": "fbc8a1fc-42c4-4914-9aa9-a3b1db110bf1",
   "metadata": {
    "tags": []
   },
   "outputs": [],
   "source": [
    "#data_path.loc[data_path['Emotions'] == 'calm','Emotions'] = 'neutral'\n",
    "\n",
    "#data_path.loc[data_path['Emotions'] == 'happy','Emotions'] = 'neutral'\n",
    "\n",
    "#data_path.loc[data_path['Emotions'] == 'angry','Emotions'] = 'stress'\n",
    "\n",
    "#data_path.loc[data_path['Emotions'] == 'sad','Emotions'] = 'stress'\n",
    "\n",
    "data_path.loc[data_path['Emotions'] == 'fear','Emotions'] = 'stress'\n",
    "\n",
    "data_path = data_path[(data_path['Emotions'] == 'neutral') | (data_path['Emotions'] == 'stress')]"
   ]
  },
  {
   "cell_type": "code",
   "execution_count": 8,
   "id": "b8a48129-921d-4fea-b998-e336f9eecbc3",
   "metadata": {},
   "outputs": [
    {
     "data": {
      "text/plain": [
       "neutral    96\n",
       "stress     96\n",
       "Name: Emotions, dtype: int64"
      ]
     },
     "execution_count": 8,
     "metadata": {},
     "output_type": "execute_result"
    }
   ],
   "source": [
    "data_path['Emotions'].value_counts()"
   ]
  },
  {
   "cell_type": "code",
   "execution_count": 9,
   "id": "e24bc467-fa5d-4ecd-b3c5-c8da98509b75",
   "metadata": {},
   "outputs": [
    {
     "data": {
      "text/plain": [
       "192"
      ]
     },
     "execution_count": 9,
     "metadata": {},
     "output_type": "execute_result"
    }
   ],
   "source": [
    "len(data_path)"
   ]
  },
  {
   "cell_type": "markdown",
   "id": "d6bdd9e1-b87b-40b4-b5a6-a43d40928732",
   "metadata": {},
   "source": [
    "## Extract raw time signals"
   ]
  },
  {
   "cell_type": "code",
   "execution_count": 10,
   "id": "d51272ca-19a1-4a98-b6b9-7bf11285e837",
   "metadata": {},
   "outputs": [
    {
     "name": "stdout",
     "output_type": "stream",
     "text": [
      "0\n",
      "100\n"
     ]
    }
   ],
   "source": [
    "sample_rate = 22050\n",
    "\n",
    "raw = []\n",
    "i = 0\n",
    "for path in data_path.Path:\n",
    "    sample, sr = librosa.load(path, sr = sample_rate)\n",
    "    raw.append(sample)\n",
    "    if(i%100 ==0):\n",
    "        print(i)\n",
    "    i+=1"
   ]
  },
  {
   "cell_type": "code",
   "execution_count": 11,
   "id": "c6566e35-c406-4a26-9068-4d0222ae2082",
   "metadata": {},
   "outputs": [
    {
     "data": {
      "text/plain": [
       "192"
      ]
     },
     "execution_count": 11,
     "metadata": {},
     "output_type": "execute_result"
    }
   ],
   "source": [
    "len(raw)"
   ]
  },
  {
   "cell_type": "code",
   "execution_count": 12,
   "id": "814355f8-ece2-400c-8273-4b9348cd021e",
   "metadata": {},
   "outputs": [],
   "source": [
    "raw_labels = np.array(data_path['Emotions'])"
   ]
  },
  {
   "cell_type": "code",
   "execution_count": 13,
   "id": "ad5b0029-0bdd-41b1-b5fc-9b9518388641",
   "metadata": {},
   "outputs": [
    {
     "name": "stderr",
     "output_type": "stream",
     "text": [
      "C:\\Users\\Evan\\anaconda3\\lib\\site-packages\\numpy\\core\\_asarray.py:171: VisibleDeprecationWarning: Creating an ndarray from ragged nested sequences (which is a list-or-tuple of lists-or-tuples-or ndarrays with different lengths or shapes) is deprecated. If you meant to do this, you must specify 'dtype=object' when creating the ndarray.\n",
      "  return array(a, dtype, copy=False, order=order, subok=True)\n"
     ]
    }
   ],
   "source": [
    "np.save(directory + 'raw.npy', raw)\n",
    "np.save(directory + 'raw_labels.npy', raw_labels)"
   ]
  },
  {
   "cell_type": "markdown",
   "id": "f2158b8d-0134-47be-b3aa-d69f2a7200c3",
   "metadata": {},
   "source": [
    "## Keep 5th - 90th percentile audio lengths to remove outliers"
   ]
  },
  {
   "cell_type": "code",
   "execution_count": 14,
   "id": "9d72a9a9-dcd4-4ef5-ac5b-eb8d0729a253",
   "metadata": {},
   "outputs": [],
   "source": [
    "raw = np.load(directory + 'raw.npy', allow_pickle = True)\n",
    "raw_labels = np.load(directory + 'raw_labels.npy', allow_pickle = True)"
   ]
  },
  {
   "cell_type": "code",
   "execution_count": 15,
   "id": "ef254b97-51fe-4bff-a60f-5bb65da76adc",
   "metadata": {},
   "outputs": [],
   "source": [
    "vec_length = np.vectorize(lambda x: len(x))"
   ]
  },
  {
   "cell_type": "code",
   "execution_count": 16,
   "id": "c42f3996-6d3d-43e7-b867-e26751f24aff",
   "metadata": {},
   "outputs": [],
   "source": [
    "lengths = pd.DataFrame(np.stack((vec_length(raw), np.array(range(0,len(raw)))), axis = 1))"
   ]
  },
  {
   "cell_type": "code",
   "execution_count": 17,
   "id": "e0190aac-37e8-4254-b14e-59fa22f3c383",
   "metadata": {},
   "outputs": [],
   "source": [
    "df = pd.DataFrame(lengths)"
   ]
  },
  {
   "cell_type": "code",
   "execution_count": 18,
   "id": "f8a8b595-6e4c-4b6f-9f52-961fa873fda2",
   "metadata": {},
   "outputs": [
    {
     "data": {
      "text/html": [
       "<div>\n",
       "<style scoped>\n",
       "    .dataframe tbody tr th:only-of-type {\n",
       "        vertical-align: middle;\n",
       "    }\n",
       "\n",
       "    .dataframe tbody tr th {\n",
       "        vertical-align: top;\n",
       "    }\n",
       "\n",
       "    .dataframe thead th {\n",
       "        text-align: right;\n",
       "    }\n",
       "</style>\n",
       "<table border=\"1\" class=\"dataframe\">\n",
       "  <thead>\n",
       "    <tr style=\"text-align: right;\">\n",
       "      <th></th>\n",
       "      <th>0</th>\n",
       "      <th>1</th>\n",
       "    </tr>\n",
       "  </thead>\n",
       "  <tbody>\n",
       "    <tr>\n",
       "      <th>count</th>\n",
       "      <td>192.000000</td>\n",
       "      <td>192.000000</td>\n",
       "    </tr>\n",
       "    <tr>\n",
       "      <th>mean</th>\n",
       "      <td>78781.640625</td>\n",
       "      <td>95.500000</td>\n",
       "    </tr>\n",
       "    <tr>\n",
       "      <th>std</th>\n",
       "      <td>6004.540550</td>\n",
       "      <td>55.569776</td>\n",
       "    </tr>\n",
       "    <tr>\n",
       "      <th>min</th>\n",
       "      <td>67688.000000</td>\n",
       "      <td>0.000000</td>\n",
       "    </tr>\n",
       "    <tr>\n",
       "      <th>25%</th>\n",
       "      <td>75045.000000</td>\n",
       "      <td>47.750000</td>\n",
       "    </tr>\n",
       "    <tr>\n",
       "      <th>50%</th>\n",
       "      <td>78724.000000</td>\n",
       "      <td>95.500000</td>\n",
       "    </tr>\n",
       "    <tr>\n",
       "      <th>75%</th>\n",
       "      <td>82403.000000</td>\n",
       "      <td>143.250000</td>\n",
       "    </tr>\n",
       "    <tr>\n",
       "      <th>max</th>\n",
       "      <td>110361.000000</td>\n",
       "      <td>191.000000</td>\n",
       "    </tr>\n",
       "  </tbody>\n",
       "</table>\n",
       "</div>"
      ],
      "text/plain": [
       "                   0           1\n",
       "count     192.000000  192.000000\n",
       "mean    78781.640625   95.500000\n",
       "std      6004.540550   55.569776\n",
       "min     67688.000000    0.000000\n",
       "25%     75045.000000   47.750000\n",
       "50%     78724.000000   95.500000\n",
       "75%     82403.000000  143.250000\n",
       "max    110361.000000  191.000000"
      ]
     },
     "execution_count": 18,
     "metadata": {},
     "output_type": "execute_result"
    }
   ],
   "source": [
    "df.describe()"
   ]
  },
  {
   "cell_type": "code",
   "execution_count": 19,
   "id": "0cef3ebb-1340-46b3-b866-b8033530f61a",
   "metadata": {},
   "outputs": [
    {
     "data": {
      "image/png": "[encoded data removed]",
      "text/plain": [
       "<Figure size 432x288 with 1 Axes>"
      ]
     },
     "metadata": {
      "needs_background": "light"
     },
     "output_type": "display_data"
    }
   ],
   "source": [
    "tuples = plt.hist(lengths[0], bins = 100)"
   ]
  },
  {
   "cell_type": "code",
   "execution_count": 20,
   "id": "7563bbaa-b1a4-4a85-9d36-373417c71501",
   "metadata": {},
   "outputs": [
    {
     "data": {
      "text/plain": [
       "69895.0"
      ]
     },
     "execution_count": 20,
     "metadata": {},
     "output_type": "execute_result"
    }
   ],
   "source": [
    "lower = np.quantile(lengths[0], 0.05)\n",
    "lower"
   ]
  },
  {
   "cell_type": "code",
   "execution_count": 21,
   "id": "f6abf474-1d63-45a6-96e5-b6f7e1572b5b",
   "metadata": {},
   "outputs": [
    {
     "data": {
      "text/plain": [
       "86007.5"
      ]
     },
     "execution_count": 21,
     "metadata": {},
     "output_type": "execute_result"
    }
   ],
   "source": [
    "upper = np.quantile(lengths[0], 0.9)\n",
    "upper"
   ]
  },
  {
   "cell_type": "code",
   "execution_count": null,
   "id": "78d07137-f295-466f-a285-06ce2a23be73",
   "metadata": {},
   "outputs": [],
   "source": []
  },
  {
   "cell_type": "code",
   "execution_count": 22,
   "id": "4a8ccbe2-0249-4e9b-b6e3-bddbdacc3aed",
   "metadata": {},
   "outputs": [],
   "source": [
    "lengths_clip = lengths[(lengths[0] > lower) & (lengths[0] < upper)]"
   ]
  },
  {
   "cell_type": "code",
   "execution_count": 23,
   "id": "23920f14-f4fc-4ce6-a7dd-3a7992b3e8cf",
   "metadata": {},
   "outputs": [
    {
     "data": {
      "image/png": "[encoded data removed]",
      "text/plain": [
       "<Figure size 432x288 with 1 Axes>"
      ]
     },
     "metadata": {
      "needs_background": "light"
     },
     "output_type": "display_data"
    }
   ],
   "source": [
    "tuples = plt.hist(lengths_clip[0], bins = 100)"
   ]
  },
  {
   "cell_type": "code",
   "execution_count": 24,
   "id": "217e6879-1eb3-4a03-80d2-63ae42f95d3a",
   "metadata": {},
   "outputs": [],
   "source": [
    "raw_clips = raw[lengths[(lengths[0] > lower) & (lengths[0] < upper)][1]]"
   ]
  },
  {
   "cell_type": "code",
   "execution_count": 25,
   "id": "732bda41-2eac-4b7d-bc89-b77a351259a6",
   "metadata": {},
   "outputs": [],
   "source": [
    "padded_labels = raw_labels[lengths[(lengths[0] > lower) & (lengths[0] < upper)][1]]"
   ]
  },
  {
   "cell_type": "code",
   "execution_count": 26,
   "id": "14931842-d3b5-4887-90d0-2109b0829ce4",
   "metadata": {},
   "outputs": [
    {
     "data": {
      "text/html": [
       "<div>\n",
       "<style scoped>\n",
       "    .dataframe tbody tr th:only-of-type {\n",
       "        vertical-align: middle;\n",
       "    }\n",
       "\n",
       "    .dataframe tbody tr th {\n",
       "        vertical-align: top;\n",
       "    }\n",
       "\n",
       "    .dataframe thead th {\n",
       "        text-align: right;\n",
       "    }\n",
       "</style>\n",
       "<table border=\"1\" class=\"dataframe\">\n",
       "  <thead>\n",
       "    <tr style=\"text-align: right;\">\n",
       "      <th></th>\n",
       "      <th>0</th>\n",
       "      <th>1</th>\n",
       "    </tr>\n",
       "  </thead>\n",
       "  <tbody>\n",
       "    <tr>\n",
       "      <th>count</th>\n",
       "      <td>161.000000</td>\n",
       "      <td>161.000000</td>\n",
       "    </tr>\n",
       "    <tr>\n",
       "      <th>mean</th>\n",
       "      <td>78052.428571</td>\n",
       "      <td>97.950311</td>\n",
       "    </tr>\n",
       "    <tr>\n",
       "      <th>std</th>\n",
       "      <td>3992.146767</td>\n",
       "      <td>55.054836</td>\n",
       "    </tr>\n",
       "    <tr>\n",
       "      <th>min</th>\n",
       "      <td>70631.000000</td>\n",
       "      <td>0.000000</td>\n",
       "    </tr>\n",
       "    <tr>\n",
       "      <th>25%</th>\n",
       "      <td>75045.000000</td>\n",
       "      <td>51.000000</td>\n",
       "    </tr>\n",
       "    <tr>\n",
       "      <th>50%</th>\n",
       "      <td>77989.000000</td>\n",
       "      <td>102.000000</td>\n",
       "    </tr>\n",
       "    <tr>\n",
       "      <th>75%</th>\n",
       "      <td>80931.000000</td>\n",
       "      <td>143.000000</td>\n",
       "    </tr>\n",
       "    <tr>\n",
       "      <th>max</th>\n",
       "      <td>85346.000000</td>\n",
       "      <td>191.000000</td>\n",
       "    </tr>\n",
       "  </tbody>\n",
       "</table>\n",
       "</div>"
      ],
      "text/plain": [
       "                  0           1\n",
       "count    161.000000  161.000000\n",
       "mean   78052.428571   97.950311\n",
       "std     3992.146767   55.054836\n",
       "min    70631.000000    0.000000\n",
       "25%    75045.000000   51.000000\n",
       "50%    77989.000000  102.000000\n",
       "75%    80931.000000  143.000000\n",
       "max    85346.000000  191.000000"
      ]
     },
     "execution_count": 26,
     "metadata": {},
     "output_type": "execute_result"
    }
   ],
   "source": [
    "lengths_clip.describe()"
   ]
  },
  {
   "cell_type": "markdown",
   "id": "1703edd6-75e0-494f-9688-b2ef0cb98025",
   "metadata": {},
   "source": [
    "## Zero pad all clips to the same length"
   ]
  },
  {
   "cell_type": "code",
   "execution_count": 27,
   "id": "d46e369a-29d0-4b1e-b475-416d7928f19a",
   "metadata": {},
   "outputs": [],
   "source": [
    "# change maxlen to a nice number just below upper\n",
    "padded_inputs = tf.keras.preprocessing.sequence.pad_sequences(raw_clips, maxlen = 85980, padding = 'pre', dtype = 'float32')"
   ]
  },
  {
   "cell_type": "code",
   "execution_count": null,
   "id": "b4d87b26-3af7-4ac8-9ee3-0603ecf26030",
   "metadata": {},
   "outputs": [],
   "source": []
  },
  {
   "cell_type": "code",
   "execution_count": 28,
   "id": "089f0108-b0a5-49aa-9d26-46b7e82a1c5a",
   "metadata": {},
   "outputs": [],
   "source": [
    "np.save(directory + 'padded.npy', padded_inputs)\n",
    "np.save(directory + 'padded_labels.npy', padded_labels)"
   ]
  },
  {
   "cell_type": "code",
   "execution_count": null,
   "id": "d8efc1d6-573c-424f-99c8-224a286098ec",
   "metadata": {},
   "outputs": [],
   "source": []
  },
  {
   "cell_type": "markdown",
   "id": "4c8185a6-0d42-4fb9-a498-c4e43e584ee5",
   "metadata": {},
   "source": [
    "## Balance the number of neutral and stress samples "
   ]
  },
  {
   "cell_type": "code",
   "execution_count": 29,
   "id": "1ce7323e-cba1-488b-91f3-208fc6fd8067",
   "metadata": {},
   "outputs": [],
   "source": [
    "padded_inputs = np.load(directory + 'padded.npy')\n",
    "padded_labels = np.load(directory + 'padded_labels.npy', allow_pickle=True)"
   ]
  },
  {
   "cell_type": "code",
   "execution_count": 30,
   "id": "1100f413-b476-4c1b-adf8-47e61ac2c133",
   "metadata": {},
   "outputs": [
    {
     "name": "stdout",
     "output_type": "stream",
     "text": [
      "161\n"
     ]
    }
   ],
   "source": [
    "print(len(padded_inputs))"
   ]
  },
  {
   "cell_type": "code",
   "execution_count": 31,
   "id": "336e1cec-df3b-4302-9ddb-ba5706cf0746",
   "metadata": {},
   "outputs": [
    {
     "data": {
      "text/plain": [
       "85"
      ]
     },
     "execution_count": 31,
     "metadata": {},
     "output_type": "execute_result"
    }
   ],
   "source": [
    "(padded_labels=='neutral').sum()"
   ]
  },
  {
   "cell_type": "code",
   "execution_count": 32,
   "id": "3d68027d-8c78-4f67-9dbb-8b7b77b50928",
   "metadata": {},
   "outputs": [
    {
     "data": {
      "text/plain": [
       "76"
      ]
     },
     "execution_count": 32,
     "metadata": {},
     "output_type": "execute_result"
    }
   ],
   "source": [
    "(padded_labels=='stress').sum()"
   ]
  },
  {
   "cell_type": "code",
   "execution_count": 33,
   "id": "24152f74-97aa-49ea-8999-95f6a75419ff",
   "metadata": {},
   "outputs": [],
   "source": [
    "indices = np.arange(len(padded_inputs))\n",
    "neutral_indices = indices[padded_labels=='neutral']\n",
    "stress_indices = indices[padded_labels=='stress']\n",
    "\n",
    "if (padded_labels=='neutral').sum() > (padded_labels=='stress').sum():\n",
    "    np.random.shuffle(neutral_indices)\n",
    "    neutral_indices = neutral_indices[:(padded_labels=='stress').sum()]\n",
    "    both = np.concatenate((neutral_indices,stress_indices))\n",
    "    padded_inputs = padded_inputs[both]\n",
    "    padded_labels = padded_labels[both]\n",
    "elif (padded_labels=='neutral').sum() < (padded_labels=='stress').sum():\n",
    "    np.random.shuffle(stress_indices)\n",
    "    stress_indices = stress_indices[:(padded_labels=='neutral').sum()]\n",
    "    both = np.concatenate((neutral_indices,stress_indices))\n",
    "    padded_inputs = padded_inputs[both]\n",
    "    padded_labels = padded_labels[both]"
   ]
  },
  {
   "cell_type": "code",
   "execution_count": 34,
   "id": "683e5fdc-7556-4ed0-9af1-b6f89a5e0733",
   "metadata": {},
   "outputs": [
    {
     "data": {
      "text/plain": [
       "76"
      ]
     },
     "execution_count": 34,
     "metadata": {},
     "output_type": "execute_result"
    }
   ],
   "source": [
    "(padded_labels=='neutral').sum()"
   ]
  },
  {
   "cell_type": "code",
   "execution_count": 35,
   "id": "fcfe0bb1-95a7-4b84-822d-017e82fd0aa1",
   "metadata": {},
   "outputs": [
    {
     "data": {
      "text/plain": [
       "76"
      ]
     },
     "execution_count": 35,
     "metadata": {},
     "output_type": "execute_result"
    }
   ],
   "source": [
    "(padded_labels=='stress').sum()"
   ]
  },
  {
   "cell_type": "code",
   "execution_count": null,
   "id": "5d972706-6c65-4686-816f-6ca758caa272",
   "metadata": {},
   "outputs": [],
   "source": []
  },
  {
   "cell_type": "markdown",
   "id": "39cda14a-0d5f-4dce-9f16-d928025a4709",
   "metadata": {},
   "source": [
    "## Data augmentation to extract MFCCs"
   ]
  },
  {
   "cell_type": "code",
   "execution_count": 36,
   "id": "3eace091-daf7-4adf-bb02-2b7dd70e60f9",
   "metadata": {},
   "outputs": [],
   "source": [
    "def noise(data):\n",
    "    noise_amp = 0.035*np.random.uniform()*np.amax(data)\n",
    "    data = data + noise_amp*np.random.normal(size=data.shape[0])\n",
    "    return data\n",
    "\n",
    "def stretch(data, rate=0.8):\n",
    "    return librosa.effects.time_stretch(data, rate)\n",
    "\n",
    "def shift(data):\n",
    "    shift_range = int(np.random.uniform(low=-5, high = 5)*3000)\n",
    "    return np.roll(data, shift_range)\n",
    "\n",
    "def pitch(data, sampling_rate, pitch_factor=0.7):\n",
    "    return librosa.effects.pitch_shift(y=data, sr=sampling_rate, n_steps=pitch_factor)"
   ]
  },
  {
   "cell_type": "code",
   "execution_count": 37,
   "id": "0d604cb4-deef-4c9f-858d-8376890d4813",
   "metadata": {},
   "outputs": [],
   "source": [
    "n_fft = 512\n",
    "hop_length = 128\n",
    "n_mfcc = 12\n",
    "\n",
    "def extract_features(data):\n",
    "    # MFCC\n",
    "    mfcc = librosa.feature.mfcc(y = data, n_fft = n_fft, hop_length = hop_length, n_mfcc = n_mfcc, )\n",
    "    #mfcc_delta = librosa.feature.delta(mfcc)\n",
    "    #mfcc_delta2 = librosa.feature.delta(mfcc, order=2)\n",
    "    #mfcc = np.expand_dims(mfcc, axis = -1)\n",
    "    #mfcc_delta = np.expand_dims(mfcc_delta, axis = -1)\n",
    "    #mfcc_delta2 = np.expand_dims(mfcc_delta2, axis = -1)\n",
    "    result = mfcc\n",
    "    #result = np.concatenate ((mfcc, mfcc_delta, mfcc_delta2), axis = -1)\n",
    "    #print(result.shape)\n",
    "    return result\n",
    "\n",
    "def get_features(data):\n",
    "    # duration and offset are used to take care of the no audio in start and the ending of each audio files as seen above.\n",
    "    #data, sample_rate = librosa.load(path, duration=2.5, offset=0.6)\n",
    "    \n",
    "    # without augmentation\n",
    "    res1 = extract_features(data)\n",
    "    #result = np.array(res1)\n",
    "    # data with noise\n",
    "    #print(res1.shape)\n",
    "    noise_data = noise(data)\n",
    "    res2 = extract_features(noise_data)\n",
    "    #result = np.stack((result, res2)) # stacking vertically\n",
    "    #print(result.shape)\n",
    "    # data with stretching and pitching\n",
    "   # new_data = stretch(data)\n",
    "    data_stretch_pitch = pitch(data, sample_rate, 0.7)\n",
    "    res3 = extract_features(data_stretch_pitch)\n",
    "    #result = np.stack((res1, res2, res3)) # stacking vertically\n",
    "    \n",
    "    data_stretch_pitch = pitch(data, sample_rate, -0.7)\n",
    "    res4 = extract_features(data_stretch_pitch)\n",
    "    \n",
    "    data_shift = shift(data)\n",
    "    res5 = extract_features(data_stretch_pitch)\n",
    "    result = np.stack((res1, res2, res3, res4, res5)) # stacking vertically\n",
    "    #print(result.shape)\n",
    "    return result"
   ]
  },
  {
   "cell_type": "code",
   "execution_count": 38,
   "id": "2f8df308-cfa9-4585-8bf0-67f59a7c72f3",
   "metadata": {},
   "outputs": [
    {
     "name": "stdout",
     "output_type": "stream",
     "text": [
      "0\n",
      "100\n"
     ]
    }
   ],
   "source": [
    "X, Y = [], []\n",
    "count = 0\n",
    "for data, emotion in zip(padded_inputs, padded_labels):\n",
    "    feature = get_features(data)\n",
    "    for ele in feature:\n",
    "        #print(ele.shape)\n",
    "        X.append(ele)\n",
    "        # appending emotion 3 times as we have made 3 augmentation techniques on each audio file.\n",
    "        Y.append(emotion)\n",
    "        #print('here')\n",
    "    if(count%100 == 0):\n",
    "        print(count)\n",
    "    count += 1"
   ]
  },
  {
   "cell_type": "code",
   "execution_count": 39,
   "id": "1db90614-34a4-4b35-a067-cfd2cb348633",
   "metadata": {},
   "outputs": [
    {
     "name": "stdout",
     "output_type": "stream",
     "text": [
      "done\n"
     ]
    }
   ],
   "source": [
    "print('done')"
   ]
  },
  {
   "cell_type": "code",
   "execution_count": 40,
   "id": "7154bc4f-c0b5-4acc-9a3a-d200d2a7f49c",
   "metadata": {},
   "outputs": [
    {
     "data": {
      "text/plain": [
       "760"
      ]
     },
     "execution_count": 40,
     "metadata": {},
     "output_type": "execute_result"
    }
   ],
   "source": [
    "len(X)"
   ]
  },
  {
   "cell_type": "code",
   "execution_count": 41,
   "id": "ce38661d-e52f-4f13-b108-14470f8ffd8e",
   "metadata": {},
   "outputs": [],
   "source": [
    "mfccs = np.stack(X)\n"
   ]
  },
  {
   "cell_type": "code",
   "execution_count": 42,
   "id": "6ee99798-5e84-4a23-8505-ec3273826e99",
   "metadata": {},
   "outputs": [
    {
     "data": {
      "text/plain": [
       "(760, 12, 672)"
      ]
     },
     "execution_count": 42,
     "metadata": {},
     "output_type": "execute_result"
    }
   ],
   "source": [
    "mfccs.shape"
   ]
  },
  {
   "cell_type": "code",
   "execution_count": 43,
   "id": "dd32a6d7-0492-4764-a611-5e35e1745406",
   "metadata": {},
   "outputs": [],
   "source": [
    "np.save(directory + 'mfccs.npy', mfccs)\n",
    "#np.save(directory + 'mfccs_delta.npy', mfccs)"
   ]
  },
  {
   "cell_type": "code",
   "execution_count": 44,
   "id": "3826a967-014e-412c-819f-76a438af5e18",
   "metadata": {},
   "outputs": [],
   "source": [
    "np.save(directory + 'str_labels.npy', np.array(Y))"
   ]
  },
  {
   "cell_type": "code",
   "execution_count": 45,
   "id": "d3f41ffd-95c1-4c2e-9acb-fcdcee17b45c",
   "metadata": {},
   "outputs": [
    {
     "data": {
      "text/plain": [
       "(760,)"
      ]
     },
     "execution_count": 45,
     "metadata": {},
     "output_type": "execute_result"
    }
   ],
   "source": [
    "np.array(Y).shape"
   ]
  },
  {
   "cell_type": "code",
   "execution_count": null,
   "id": "7180296d-a9bd-48ff-b2c4-49ad512cdf7d",
   "metadata": {},
   "outputs": [],
   "source": []
  },
  {
   "cell_type": "code",
   "execution_count": null,
   "id": "42ecd194-807e-4789-925e-c9d3910a5526",
   "metadata": {},
   "outputs": [],
   "source": []
  },
  {
   "cell_type": "code",
   "execution_count": null,
   "id": "d1b1b8f8-2d16-4979-9358-44839a2ba4f4",
   "metadata": {},
   "outputs": [],
   "source": []
  }
 ],
 "metadata": {
  "kernelspec": {
   "display_name": "Python 3 (ipykernel)",
   "language": "python",
   "name": "python3"
  },
  "language_info": {
   "codemirror_mode": {
    "name": "ipython",
    "version": 3
   },
   "file_extension": ".py",
   "mimetype": "text/x-python",
   "name": "python",
   "nbconvert_exporter": "python",
   "pygments_lexer": "ipython3",
   "version": "3.9.7"
  }
 },
 "nbformat": 4,
 "nbformat_minor": 5
}
