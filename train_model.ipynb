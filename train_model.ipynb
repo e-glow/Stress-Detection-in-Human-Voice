{
 "cells": [
  {
   "cell_type": "code",
   "execution_count": 1,
   "id": "ec266700-2b50-476b-aff2-fff9dc94a679",
   "metadata": {},
   "outputs": [],
   "source": [
    "import librosa\n",
    "import librosa.display\n",
    "import numpy as np\n",
    "import pandas as pd\n",
    "from IPython.display import Audio\n",
    "import tensorflow as tf\n",
    "from tensorflow import keras\n",
    "from tensorflow.keras import regularizers\n",
    "\n",
    "import sklearn\n",
    "import matplotlib.pyplot as plt\n",
    "import pickle\n",
    "import seaborn as sns"
   ]
  },
  {
   "cell_type": "markdown",
   "id": "06c61aa9-f564-4f7f-af3e-0201888c45f1",
   "metadata": {},
   "source": [
    "## Load training data"
   ]
  },
  {
   "cell_type": "code",
   "execution_count": 2,
   "id": "283c0f5c-1df4-49e2-a95c-81e30084bcc3",
   "metadata": {},
   "outputs": [],
   "source": [
    "directory = 'data/preprocessed/'"
   ]
  },
  {
   "cell_type": "code",
   "execution_count": 3,
   "id": "894b57f8-8a75-4606-8f80-8b6402676086",
   "metadata": {},
   "outputs": [],
   "source": [
    "mfccs = np.load(directory + 'mfccs.npy')\n",
    "str_labels = np.load(directory + 'str_labels.npy')\n"
   ]
  },
  {
   "cell_type": "code",
   "execution_count": 4,
   "id": "314a0434-d92c-46d0-9b3c-db2c03c45f4c",
   "metadata": {},
   "outputs": [
    {
     "name": "stdout",
     "output_type": "stream",
     "text": [
      "(760, 12, 672)\n"
     ]
    }
   ],
   "source": [
    "print(mfccs.shape)"
   ]
  },
  {
   "cell_type": "code",
   "execution_count": 5,
   "id": "b58ea56f-6981-437e-ac31-002d173be937",
   "metadata": {},
   "outputs": [
    {
     "name": "stdout",
     "output_type": "stream",
     "text": [
      "neutral    380\n",
      "stress     380\n",
      "dtype: int64\n"
     ]
    }
   ],
   "source": [
    "print(pd.DataFrame(str_labels).value_counts())"
   ]
  },
  {
   "cell_type": "code",
   "execution_count": 6,
   "id": "47dd2d84-3875-4f94-9d66-41945e0387a8",
   "metadata": {},
   "outputs": [],
   "source": [
    "mfccs = np.expand_dims(mfccs, axis = -1)"
   ]
  },
  {
   "cell_type": "code",
   "execution_count": 7,
   "id": "61fc3cc4-5bea-4346-aa93-aa287e3733f9",
   "metadata": {},
   "outputs": [],
   "source": [
    "le = sklearn.preprocessing.LabelEncoder()\n",
    "le.fit(str_labels)\n",
    "labels = le.transform(str_labels)"
   ]
  },
  {
   "cell_type": "code",
   "execution_count": 8,
   "id": "8af6c9e8-0531-417a-9a0e-5abf9c5b1860",
   "metadata": {},
   "outputs": [
    {
     "name": "stdout",
     "output_type": "stream",
     "text": [
      "neutral    380\n",
      "stress     380\n",
      "dtype: int64\n"
     ]
    }
   ],
   "source": [
    "print(pd.DataFrame(str_labels).value_counts())"
   ]
  },
  {
   "cell_type": "code",
   "execution_count": 9,
   "id": "7f081c72-7701-4edc-9bba-ae720d3475f2",
   "metadata": {},
   "outputs": [
    {
     "data": {
      "text/plain": [
       "(760, 12, 672, 1)"
      ]
     },
     "execution_count": 9,
     "metadata": {},
     "output_type": "execute_result"
    }
   ],
   "source": [
    "mfccs.shape"
   ]
  },
  {
   "cell_type": "markdown",
   "id": "a9da4168-46a4-4893-b27d-212d5eabb7af",
   "metadata": {},
   "source": [
    "## Create train/test splits"
   ]
  },
  {
   "cell_type": "code",
   "execution_count": 10,
   "id": "dcd046e9-d791-470c-80c7-ba3c1552553f",
   "metadata": {},
   "outputs": [],
   "source": [
    "X_train, X_test, y_train, y_test = sklearn.model_selection.train_test_split(mfccs, labels, test_size=0.3, random_state=42, stratify = labels)"
   ]
  },
  {
   "cell_type": "markdown",
   "id": "2b476d93-37f4-4e1f-9726-08ef70d513f9",
   "metadata": {},
   "source": [
    "## Normalize the MFCCs"
   ]
  },
  {
   "cell_type": "code",
   "execution_count": 11,
   "id": "d8f15b2d-94dc-4761-95ca-073fb018d8a1",
   "metadata": {},
   "outputs": [],
   "source": [
    "scaler = sklearn.preprocessing.StandardScaler()\n",
    "X_train_tp = X_train.transpose(0,2,1,3)\n",
    "X_test_tp = X_test.transpose(0,2,1,3)\n",
    "X_train_scaled = scaler.fit_transform(X_train_tp.reshape(-1, 12)).reshape(X_train_tp.shape).transpose(0,2,1,3)\n",
    "X_test_scaled = scaler.transform(X_test_tp.reshape(-1, 12)).reshape(X_test_tp.shape).transpose(0,2,1,3)"
   ]
  },
  {
   "cell_type": "code",
   "execution_count": 12,
   "id": "d698f943-3283-4411-b239-8e9bc3d184bd",
   "metadata": {},
   "outputs": [
    {
     "name": "stdout",
     "output_type": "stream",
     "text": [
      "(532, 672, 12, 1)\n"
     ]
    }
   ],
   "source": [
    "print(X_train_tp.shape)"
   ]
  },
  {
   "cell_type": "code",
   "execution_count": 13,
   "id": "f5917bd1-9efd-4e4e-b59e-4f854667ce1f",
   "metadata": {},
   "outputs": [
    {
     "data": {
      "text/plain": [
       "(532, 12, 672, 1)"
      ]
     },
     "execution_count": 13,
     "metadata": {},
     "output_type": "execute_result"
    }
   ],
   "source": [
    "X_train_scaled.shape"
   ]
  },
  {
   "cell_type": "code",
   "execution_count": 14,
   "id": "65207bf1-1609-4b18-90d2-08de881e757c",
   "metadata": {},
   "outputs": [
    {
     "data": {
      "text/plain": [
       "266"
      ]
     },
     "execution_count": 14,
     "metadata": {},
     "output_type": "execute_result"
    }
   ],
   "source": [
    "(y_train==0).sum()"
   ]
  },
  {
   "cell_type": "code",
   "execution_count": 15,
   "id": "70416535-68ed-42b6-9aa1-2ff0624a6c07",
   "metadata": {},
   "outputs": [
    {
     "data": {
      "text/plain": [
       "266"
      ]
     },
     "execution_count": 15,
     "metadata": {},
     "output_type": "execute_result"
    }
   ],
   "source": [
    "(y_train==1).sum()"
   ]
  },
  {
   "cell_type": "code",
   "execution_count": 16,
   "id": "a96a5ca2-5c3b-444a-9edc-8e25341c802e",
   "metadata": {},
   "outputs": [
    {
     "data": {
      "text/plain": [
       "114"
      ]
     },
     "execution_count": 16,
     "metadata": {},
     "output_type": "execute_result"
    }
   ],
   "source": [
    "(y_test==0).sum()"
   ]
  },
  {
   "cell_type": "code",
   "execution_count": 17,
   "id": "07fe5363-bbc0-4d92-96bc-79149c3635b3",
   "metadata": {},
   "outputs": [
    {
     "data": {
      "text/plain": [
       "114"
      ]
     },
     "execution_count": 17,
     "metadata": {},
     "output_type": "execute_result"
    }
   ],
   "source": [
    "(y_test==1).sum()"
   ]
  },
  {
   "cell_type": "markdown",
   "id": "edce5fb8-d89d-4e3e-906f-4fc8d989e366",
   "metadata": {},
   "source": [
    "## Define and train model"
   ]
  },
  {
   "cell_type": "code",
   "execution_count": 18,
   "id": "2b2f3153-407f-407a-a2e4-ba1e3d0f6dca",
   "metadata": {},
   "outputs": [],
   "source": [
    "model = keras.models.Sequential([keras.layers.Normalization(axis = 1, mean = scaler.mean_, variance = scaler.var_),\n",
    "                                 keras.layers.Conv1D(1, 5, activation=\"relu\", input_shape = mfccs.shape[1:],  kernel_regularizer=regularizers.l2(0.001)),\n",
    "                                 keras.layers.MaxPooling2D(pool_size= (1,15), strides=(1,15), padding='same'), \n",
    "\n",
    "                                 #keras.layers.Conv1D(1, 3, activation=\"relu\", kernel_regularizer=regularizers.l2(0.001)),\n",
    "                                 #keras.layers.MaxPooling2D(pool_size=(1, 3), strides=(1, 3), padding = 'same'),\n",
    "\n",
    "                                 keras.layers.Flatten(),\n",
    "\n",
    "                                 #keras.layers.Dense(3, activation=\"relu\"),\n",
    "                                 keras.layers.Dense(1, activation=\"sigmoid\",  kernel_regularizer=regularizers.l2(0.001)),\n",
    "])\n",
    "\n",
    "model.compile(loss = \"binary_crossentropy\", optimizer= tf.keras.optimizers.Adam(learning_rate=1e-3), metrics = [\"accuracy\"])"
   ]
  },
  {
   "cell_type": "code",
   "execution_count": 19,
   "id": "733c9735-01dd-4a8c-bfff-abfd6f3b7717",
   "metadata": {},
   "outputs": [
    {
     "name": "stdout",
     "output_type": "stream",
     "text": [
      "Epoch 1/5\n",
      "133/133 [==============================] - 3s 13ms/step - loss: 0.4541 - accuracy: 0.8083 - val_loss: 0.2878 - val_accuracy: 0.9035\n",
      "Epoch 2/5\n",
      "133/133 [==============================] - 1s 6ms/step - loss: 0.2006 - accuracy: 0.9380 - val_loss: 0.2061 - val_accuracy: 0.9342\n",
      "Epoch 3/5\n",
      "133/133 [==============================] - 1s 5ms/step - loss: 0.1339 - accuracy: 0.9568 - val_loss: 0.1424 - val_accuracy: 0.9518\n",
      "Epoch 4/5\n",
      "133/133 [==============================] - 1s 6ms/step - loss: 0.0947 - accuracy: 0.9718 - val_loss: 0.1089 - val_accuracy: 0.9561\n",
      "Epoch 5/5\n",
      "133/133 [==============================] - 1s 9ms/step - loss: 0.0724 - accuracy: 0.9793 - val_loss: 0.0957 - val_accuracy: 0.9605\n"
     ]
    }
   ],
   "source": [
    "history = model.fit(X_train, y_train, batch_size = 4, epochs = 5, validation_data=(X_test, y_test))"
   ]
  },
  {
   "cell_type": "code",
   "execution_count": 20,
   "id": "e4080458-5862-4425-a69f-4e73a295a49e",
   "metadata": {},
   "outputs": [
    {
     "name": "stdout",
     "output_type": "stream",
     "text": [
      "Model: \"sequential\"\n",
      "_________________________________________________________________\n",
      " Layer (type)                Output Shape              Param #   \n",
      "=================================================================\n",
      " normalization (Normalizatio  (4, 12, 672, 1)          0         \n",
      " n)                                                              \n",
      "                                                                 \n",
      " conv1d (Conv1D)             (4, 12, 668, 1)           6         \n",
      "                                                                 \n",
      " max_pooling2d (MaxPooling2D  (4, 12, 45, 1)           0         \n",
      " )                                                               \n",
      "                                                                 \n",
      " flatten (Flatten)           (4, 540)                  0         \n",
      "                                                                 \n",
      " dense (Dense)               (4, 1)                    541       \n",
      "                                                                 \n",
      "=================================================================\n",
      "Total params: 547\n",
      "Trainable params: 547\n",
      "Non-trainable params: 0\n",
      "_________________________________________________________________\n"
     ]
    }
   ],
   "source": [
    "model.summary()"
   ]
  },
  {
   "cell_type": "markdown",
   "id": "b0b8ebe7-ac96-4dea-b1a7-1f72f6b81a81",
   "metadata": {},
   "source": [
    "## Save model and evaluate"
   ]
  },
  {
   "cell_type": "code",
   "execution_count": 21,
   "id": "08b96308-459a-481b-a800-715551e331f6",
   "metadata": {},
   "outputs": [
    {
     "name": "stdout",
     "output_type": "stream",
     "text": [
      "INFO:tensorflow:Assets written to: models/model\\assets\n"
     ]
    }
   ],
   "source": [
    "model.save('models/model')"
   ]
  },
  {
   "cell_type": "code",
   "execution_count": 22,
   "id": "f7868654-122c-4066-82d5-625a03d8296d",
   "metadata": {},
   "outputs": [
    {
     "name": "stdout",
     "output_type": "stream",
     "text": [
      "Model: \"sequential\"\n",
      "_________________________________________________________________\n",
      " Layer (type)                Output Shape              Param #   \n",
      "=================================================================\n",
      " normalization (Normalizatio  (None, 12, 672, 1)       0         \n",
      " n)                                                              \n",
      "                                                                 \n",
      " conv1d (Conv1D)             (None, 12, 668, 1)        6         \n",
      "                                                                 \n",
      " max_pooling2d (MaxPooling2D  (None, 12, 45, 1)        0         \n",
      " )                                                               \n",
      "                                                                 \n",
      " flatten (Flatten)           (None, 540)               0         \n",
      "                                                                 \n",
      " dense (Dense)               (None, 1)                 541       \n",
      "                                                                 \n",
      "=================================================================\n",
      "Total params: 547\n",
      "Trainable params: 547\n",
      "Non-trainable params: 0\n",
      "_________________________________________________________________\n"
     ]
    }
   ],
   "source": [
    "model = keras.models.load_model('models/model')\n",
    "model.summary()"
   ]
  },
  {
   "cell_type": "code",
   "execution_count": 23,
   "id": "d740bbeb-0cf7-4ce4-b465-68cbb6ed01d8",
   "metadata": {},
   "outputs": [
    {
     "data": {
      "text/plain": [
       "0.9604647130223686"
      ]
     },
     "execution_count": 23,
     "metadata": {},
     "output_type": "execute_result"
    }
   ],
   "source": [
    "probabilities = model.predict(X_test)\n",
    "y_pred = probabilities.round()\n",
    "sklearn.metrics.f1_score(y_test, y_pred, average='weighted')"
   ]
  },
  {
   "cell_type": "code",
   "execution_count": 24,
   "id": "bd2db164-269f-4e89-a405-4f216f745658",
   "metadata": {},
   "outputs": [
    {
     "data": {
      "text/plain": [
       "(228, 1)"
      ]
     },
     "execution_count": 24,
     "metadata": {},
     "output_type": "execute_result"
    }
   ],
   "source": [
    "probabilities.shape"
   ]
  },
  {
   "cell_type": "code",
   "execution_count": 25,
   "id": "e9734cf0-0e60-4eee-81f9-bc4ca731552f",
   "metadata": {},
   "outputs": [
    {
     "data": {
      "text/plain": [
       "<AxesSubplot:>"
      ]
     },
     "execution_count": 25,
     "metadata": {},
     "output_type": "execute_result"
    },
    {
     "data": {
      "image/png": "[encoded data removed]",
      "text/plain": [
       "<Figure size 576x360 with 1 Axes>"
      ]
     },
     "metadata": {
      "needs_background": "light"
     },
     "output_type": "display_data"
    }
   ],
   "source": [
    "pd.DataFrame(history.history).plot(figsize=(8,5))"
   ]
  },
  {
   "cell_type": "code",
   "execution_count": 26,
   "id": "84ad9e2f-cb19-4432-88c1-47f1744f34fc",
   "metadata": {},
   "outputs": [
    {
     "data": {
      "text/plain": [
       "<AxesSubplot:>"
      ]
     },
     "execution_count": 26,
     "metadata": {},
     "output_type": "execute_result"
    },
    {
     "data": {
      "image/png": "[encoded data removed]",
      "text/plain": [
       "<Figure size 432x288 with 2 Axes>"
      ]
     },
     "metadata": {
      "needs_background": "light"
     },
     "output_type": "display_data"
    }
   ],
   "source": [
    "# Finally make the confusion matrix\n",
    "index_labels = le.classes_\n",
    "sns.heatmap(sklearn.metrics.confusion_matrix(y_test, y_pred, labels=[0,1]), annot=True, fmt='g', xticklabels=index_labels, yticklabels=index_labels)"
   ]
  },
  {
   "cell_type": "code",
   "execution_count": null,
   "id": "6cad1fec-2825-4215-b83c-d0f98dcd5f45",
   "metadata": {},
   "outputs": [],
   "source": []
  },
  {
   "cell_type": "markdown",
   "id": "d5a35660-0207-4ca3-931a-1227004c4e79",
   "metadata": {},
   "source": [
    "## Save the best model"
   ]
  },
  {
   "cell_type": "code",
   "execution_count": 27,
   "id": "04bc9b8f-2a8f-4252-9eaf-5941a0a515ab",
   "metadata": {},
   "outputs": [],
   "source": [
    "#model.save(\"models/best_model\")"
   ]
  },
  {
   "cell_type": "code",
   "execution_count": 28,
   "id": "702e3c13-021f-4636-9c6a-fe173f40f52b",
   "metadata": {},
   "outputs": [],
   "source": [
    "model = keras.models.load_model('models/best_model')"
   ]
  },
  {
   "cell_type": "code",
   "execution_count": 29,
   "id": "d706978e-42b9-427a-9dce-f78aa3397588",
   "metadata": {},
   "outputs": [
    {
     "name": "stdout",
     "output_type": "stream",
     "text": [
      "Model: \"sequential_3\"\n",
      "_________________________________________________________________\n",
      " Layer (type)                Output Shape              Param #   \n",
      "=================================================================\n",
      " normalization_3 (Normalizat  (None, 12, 672, 1)       0         \n",
      " ion)                                                            \n",
      "                                                                 \n",
      " conv1d_3 (Conv1D)           (None, 12, 668, 1)        6         \n",
      "                                                                 \n",
      " max_pooling2d_3 (MaxPooling  (None, 12, 45, 1)        0         \n",
      " 2D)                                                             \n",
      "                                                                 \n",
      " flatten_3 (Flatten)         (None, 540)               0         \n",
      "                                                                 \n",
      " dense_3 (Dense)             (None, 1)                 541       \n",
      "                                                                 \n",
      "=================================================================\n",
      "Total params: 547\n",
      "Trainable params: 547\n",
      "Non-trainable params: 0\n",
      "_________________________________________________________________\n"
     ]
    }
   ],
   "source": [
    "model.summary()"
   ]
  },
  {
   "cell_type": "code",
   "execution_count": null,
   "id": "399e24ea-2c91-4368-97ae-4cc8617d022f",
   "metadata": {},
   "outputs": [],
   "source": []
  },
  {
   "cell_type": "code",
   "execution_count": null,
   "id": "6b175b28-0cb5-44fe-9359-92521d9ce08a",
   "metadata": {},
   "outputs": [],
   "source": []
  },
  {
   "cell_type": "code",
   "execution_count": null,
   "id": "d9a9cd5f-c4f5-433d-b95b-144a98c925b9",
   "metadata": {},
   "outputs": [],
   "source": []
  }
 ],
 "metadata": {
  "kernelspec": {
   "display_name": "Python 3 (ipykernel)",
   "language": "python",
   "name": "python3"
  },
  "language_info": {
   "codemirror_mode": {
    "name": "ipython",
    "version": 3
   },
   "file_extension": ".py",
   "mimetype": "text/x-python",
   "name": "python",
   "nbconvert_exporter": "python",
   "pygments_lexer": "ipython3",
   "version": "3.9.7"
  }
 },
 "nbformat": 4,
 "nbformat_minor": 5
}
